{
  "nbformat": 4,
  "nbformat_minor": 0,
  "metadata": {
    "colab": {
      "name": "RL_ActorCritic_DDPG_Movie_Recommendation.ipynb",
      "provenance": [],
      "collapsed_sections": [],
      "machine_shape": "hm",
      "include_colab_link": true
    },
    "kernelspec": {
      "name": "python3",
      "display_name": "Python 3"
    }
  },
  "cells": [
    {
      "cell_type": "markdown",
      "metadata": {
        "id": "view-in-github",
        "colab_type": "text"
      },
      "source": [
        "<a href=\"https://colab.research.google.com/github/bcsrn/RL_DDPG_Recommendation/blob/master/RL_ActorCritic_DDPG_Movie_Recommendation.ipynb\" target=\"_parent\"><img src=\"https://colab.research.google.com/assets/colab-badge.svg\" alt=\"Open In Colab\"/></a>"
      ]
    },
    {
      "cell_type": "markdown",
      "metadata": {
        "id": "DsEJ5r1AhOLK",
        "colab_type": "text"
      },
      "source": [
        "#Data Load, Env Setup\n"
      ]
    },
    {
      "cell_type": "code",
      "metadata": {
        "id": "kk41_9F5Dwoi",
        "colab_type": "code",
        "outputId": "985fd801-0e5f-4fa3-ab76-1840d035669c",
        "colab": {
          "base_uri": "https://localhost:8080/",
          "height": 129
        }
      },
      "source": [
        "#Mounting the drive\n",
        "from google.colab import drive\n",
        "drive.mount('/content/gdrive')"
      ],
      "execution_count": 0,
      "outputs": [
        {
          "output_type": "stream",
          "text": [
            "Go to this URL in a browser: https://accounts.google.com/o/oauth2/auth?client_id=947318989803-6bn6qk8qdgf4n4g3pfee6491hc0brc4i.apps.googleusercontent.com&redirect_uri=urn%3aietf%3awg%3aoauth%3a2.0%3aoob&response_type=code&scope=email%20https%3a%2f%2fwww.googleapis.com%2fauth%2fdocs.test%20https%3a%2f%2fwww.googleapis.com%2fauth%2fdrive%20https%3a%2f%2fwww.googleapis.com%2fauth%2fdrive.photos.readonly%20https%3a%2f%2fwww.googleapis.com%2fauth%2fpeopleapi.readonly\n",
            "\n",
            "Enter your authorization code:\n",
            "··········\n",
            "Mounted at /content/gdrive\n"
          ],
          "name": "stdout"
        }
      ]
    },
    {
      "cell_type": "code",
      "metadata": {
        "id": "r1NmejTIFPtf",
        "colab_type": "code",
        "colab": {}
      },
      "source": [
        "#Dependencies\n",
        "import pandas as pd\n",
        "import numpy as np\n",
        "from scipy.sparse.linalg import svds\n",
        "from sklearn.model_selection import train_test_split\n",
        "import tensorflow as tf\n",
        "from torch.utils.data import DataLoader\n",
        "import itertools\n",
        "import torch\n"
      ],
      "execution_count": 0,
      "outputs": []
    },
    {
      "cell_type": "code",
      "metadata": {
        "id": "b8aPaxXpNsz7",
        "colab_type": "code",
        "colab": {}
      },
      "source": [
        "#Loading datasets\n",
        "ratings_list = [i.strip().split(\"::\") for i in open('/content/gdrive/My Drive/RLProject/Data/ml-1m/ratings.dat', 'r').readlines()]\n",
        "users_list = [i.strip().split(\"::\") for i in open('/content/gdrive/My Drive/RLProject/Data/ml-1m/users.dat', 'r').readlines()]\n",
        "movies_list = [i.strip().split(\"::\") for i in open('/content/gdrive/My Drive/RLProject/Data/ml-1m/movies.dat',encoding='latin-1').readlines()]\n",
        "ratings_df = pd.DataFrame(ratings_list, columns = ['UserID', 'MovieID', 'Rating', 'Timestamp'], dtype = int)\n",
        "movies_df = pd.DataFrame(movies_list, columns = ['MovieID', 'Title', 'Genres'])\n",
        "movies_df['MovieID'] = movies_df['MovieID'].apply(pd.to_numeric)"
      ],
      "execution_count": 0,
      "outputs": []
    },
    {
      "cell_type": "code",
      "metadata": {
        "id": "bSqs6TACUjCJ",
        "colab_type": "code",
        "colab": {}
      },
      "source": [
        "R_df = ratings_df.pivot(index = 'UserID', columns ='MovieID', values = 'Rating').fillna(0)\n",
        "R_df = R_df.astype(int)"
      ],
      "execution_count": 0,
      "outputs": []
    },
    {
      "cell_type": "code",
      "metadata": {
        "id": "iFBmC7b9Wls-",
        "colab_type": "code",
        "colab": {}
      },
      "source": [
        "#might be used in the user dependednt state representation\n",
        "userids = list(R_df.index.values) #list of userids\n",
        "idx_to_userids = {i:userids[i] for i in range(len(userids))}\n",
        "userids_to_idx = {userids[i]:i for i in range(len(userids))}"
      ],
      "execution_count": 0,
      "outputs": []
    },
    {
      "cell_type": "code",
      "metadata": {
        "id": "m2b0pDxe-Kng",
        "colab_type": "code",
        "colab": {}
      },
      "source": [
        "#list of movie ids\n",
        "columns = list(R_df)\n",
        "idx_to_id = {i:columns[i] for i in range(len(columns))}\n",
        "id_to_idx = {columns[i]:i for i in range(len(columns))}"
      ],
      "execution_count": 0,
      "outputs": []
    },
    {
      "cell_type": "code",
      "metadata": {
        "id": "FISA0DvT8fn5",
        "colab_type": "code",
        "colab": {}
      },
      "source": [
        "#to get item embeddings\n",
        "#R_df[userid][movieid]"
      ],
      "execution_count": 0,
      "outputs": []
    },
    {
      "cell_type": "markdown",
      "metadata": {
        "id": "_RQ7Rjif5-dh",
        "colab_type": "text"
      },
      "source": [
        "##Getting Embeddings of User and Item(Movie Id's)\n"
      ]
    },
    {
      "cell_type": "code",
      "metadata": {
        "id": "9CmSP_wmg5-U",
        "colab_type": "code",
        "colab": {}
      },
      "source": [
        "R = R_df.values\n",
        "user_ratings_mean = np.mean(R, axis = 1)\n",
        "R_demeaned = R - user_ratings_mean.reshape(-1, 1)"
      ],
      "execution_count": 0,
      "outputs": []
    },
    {
      "cell_type": "code",
      "metadata": {
        "id": "sTMwltBwigpE",
        "colab_type": "code",
        "colab": {}
      },
      "source": [
        "#Movie Embeddings\n",
        "U, sigma, Vt = svds(R_demeaned, k = 100)\n",
        "# print(Vt.shape)\n",
        "V = Vt.transpose()\n",
        "# print(V.shape)\n",
        "movie_list = V.tolist()\n",
        "movie_embeddings_dict = {columns[i]:tf.convert_to_tensor(movie_list[i]) for i in range(len(columns))}"
      ],
      "execution_count": 0,
      "outputs": []
    },
    {
      "cell_type": "code",
      "metadata": {
        "id": "WAjBAVKZgXc5",
        "colab_type": "code",
        "colab": {}
      },
      "source": [
        "user_list = U.tolist()\n",
        "user_embeddings_dict =  {userids[i]:tf.convert_to_tensor(user_list[i]) for i in range(len(userids))}"
      ],
      "execution_count": 0,
      "outputs": []
    },
    {
      "cell_type": "code",
      "metadata": {
        "id": "qxFmvK6QBBGi",
        "colab_type": "code",
        "colab": {}
      },
      "source": [
        "#prepare_dataset\n",
        "#using ratings_df\n",
        "users_df = ratings_df.sort_values([\"UserID\",\"Timestamp\"]).set_index(\"UserID\").fillna(0).drop(\"Timestamp\",axis=1)\n",
        "users = dict(tuple(users_df.groupby(\"UserID\")))\n"
      ],
      "execution_count": 0,
      "outputs": []
    },
    {
      "cell_type": "markdown",
      "metadata": {
        "id": "bcI7Tn4h8cok",
        "colab_type": "text"
      },
      "source": [
        "##Train and Test Dataset"
      ]
    },
    {
      "cell_type": "code",
      "metadata": {
        "id": "ayry5fcBNOhK",
        "colab_type": "code",
        "colab": {}
      },
      "source": [
        "#Getting users with positive rating count greater than 10\n",
        "# 10 == 'N' positively interacted items\n",
        "from collections import defaultdict\n",
        "from collections import Counter\n",
        "users_dict = defaultdict(dict)\n",
        "users_id_list = set()\n",
        "for user_id in users:\n",
        "  rating_freq = Counter(users[user_id][\"Rating\"].values)\n",
        "  if rating_freq['4']+rating_freq['5']<10 :\n",
        "    continue\n",
        "  else:\n",
        "    users_id_list.add(user_id)\n",
        "    users_dict[user_id][\"item\"] = users[user_id][\"MovieID\"].values\n",
        "    users_dict[user_id][\"rating\"] = users[user_id][\"Rating\"].values\n",
        "  \n"
      ],
      "execution_count": 0,
      "outputs": []
    },
    {
      "cell_type": "code",
      "metadata": {
        "id": "x5Qu67dNVItq",
        "colab_type": "code",
        "colab": {}
      },
      "source": [
        "users_id_list = np.array(list(users_id_list))"
      ],
      "execution_count": 0,
      "outputs": []
    },
    {
      "cell_type": "code",
      "metadata": {
        "id": "LmQNj6Vu10EU",
        "colab_type": "code",
        "outputId": "27db77f6-1f9e-4875-a566-60d13841c7f3",
        "colab": {
          "base_uri": "https://localhost:8080/",
          "height": 35
        }
      },
      "source": [
        "#choosing default train_test_split of 25%\n",
        "train_users,test_users = train_test_split(users_id_list)\n",
        "print(train_users[:2])"
      ],
      "execution_count": 0,
      "outputs": [
        {
          "output_type": "stream",
          "text": [
            "['1547' '2723']\n"
          ],
          "name": "stdout"
        }
      ]
    },
    {
      "cell_type": "code",
      "metadata": {
        "id": "x1Ldqt8vhOPI",
        "colab_type": "code",
        "outputId": "c9d5bb5e-2830-4bca-e017-5347b4f08425",
        "colab": {
          "base_uri": "https://localhost:8080/",
          "height": 35
        }
      },
      "source": [
        "print(test_users[:2])"
      ],
      "execution_count": 0,
      "outputs": [
        {
          "output_type": "stream",
          "text": [
            "['2122' '3364']\n"
          ],
          "name": "stdout"
        }
      ]
    },
    {
      "cell_type": "code",
      "metadata": {
        "id": "P1yOD6JA32u8",
        "colab_type": "code",
        "colab": {}
      },
      "source": [
        "from torch.utils.data import Dataset\n",
        "class UserDataset(Dataset):\n",
        "  def __init__(self,users_list,users_dict):\n",
        "    self.users_list = users_list\n",
        "    self.users_dict = users_dict\n",
        "\n",
        "  def __len__(self):\n",
        "    return len(self.users_list)\n",
        "\n",
        "  def __getitem__(self,idx):\n",
        "    user_id = self.users_list[idx]\n",
        "    items = [('1',)]*10\n",
        "    ratings = [('0',)]*10\n",
        "    j=0\n",
        "    for i,rate in enumerate(self.users_dict[user_id][\"rating\"]):\n",
        "      if int(rate) >3 and j < 10:\n",
        "        items[j] = self.users_dict[user_id][\"item\"][i]\n",
        "        ratings[j] = self.users_dict[user_id][\"rating\"][i]\n",
        "        j += 1\n",
        "    # item = list(self.users_dict[user_id][\"item\"][:])\n",
        "    # rating = list(self.users_dict[user_id][\"rating\"][:])\n",
        "    size = len(items)\n",
        "    \n",
        "    return {'item':items,'rating':ratings,'size':size,'userid':user_id,'idx':idx}\n"
      ],
      "execution_count": 0,
      "outputs": []
    },
    {
      "cell_type": "code",
      "metadata": {
        "id": "Wfp3TcK573H0",
        "colab_type": "code",
        "colab": {}
      },
      "source": [
        "train_users_dataset = UserDataset(train_users,users_dict)\n",
        "test_users_dataset = UserDataset(test_users,users_dict)"
      ],
      "execution_count": 0,
      "outputs": []
    },
    {
      "cell_type": "code",
      "metadata": {
        "id": "4X4OvMdoElSw",
        "colab_type": "code",
        "colab": {}
      },
      "source": [
        "from torch.utils.data import DataLoader\n",
        "\n",
        "train_dataloader = DataLoader(train_users_dataset,batch_size=1)\n",
        "test_dataloader = DataLoader(test_users_dataset,batch_size=1)"
      ],
      "execution_count": 0,
      "outputs": []
    },
    {
      "cell_type": "code",
      "metadata": {
        "id": "njrztpHpPMYQ",
        "colab_type": "code",
        "outputId": "329604b7-861b-4509-d001-a1d8e21f2b02",
        "colab": {
          "base_uri": "https://localhost:8080/",
          "height": 35
        }
      },
      "source": [
        "train_num = len(train_dataloader)\n",
        "print(train_num)"
      ],
      "execution_count": 0,
      "outputs": [
        {
          "output_type": "stream",
          "text": [
            "4462\n"
          ],
          "name": "stdout"
        }
      ]
    },
    {
      "cell_type": "markdown",
      "metadata": {
        "id": "so-BkRxW8SPE",
        "colab_type": "text"
      },
      "source": [
        "#State Representation Models"
      ]
    },
    {
      "cell_type": "code",
      "metadata": {
        "id": "aULb7Dxhua6S",
        "colab_type": "code",
        "colab": {}
      },
      "source": [
        "def drrave_state_rep(userid_b,items,memory,idx):\n",
        "  user_num = idx\n",
        "  H = [] #item embeddings\n",
        "  user_n_items = items\n",
        "  user_embeddings = torch.Tensor(np.array(user_embeddings_dict[userid_b[0]]),).unsqueeze(0)\n",
        "  for i,item in enumerate(user_n_items):\n",
        "    H.append(np.array(movie_embeddings_dict[item[0]]))\n",
        "  avg_layer = nn.AvgPool1d(1)\n",
        "  item_embeddings = avg_layer(torch.Tensor(H,).unsqueeze(0)).permute(0,2,1).squeeze(0)\n",
        "  state = torch.cat([user_embeddings,user_embeddings*item_embeddings.T,item_embeddings.T])\n",
        "  return state #state tensor shape [21,100]\n",
        "\n"
      ],
      "execution_count": 0,
      "outputs": []
    },
    {
      "cell_type": "code",
      "metadata": {
        "id": "lCkdGnYdfon8",
        "colab_type": "code",
        "colab": {}
      },
      "source": [
        "def drru_state_rep(userid_b,items,memory,idx):\n",
        "  user_num = idx\n",
        "  H = []\n",
        "  user_n_items = items\n",
        "  user_embeddings = user_embeddings_dict[userid_b[0]]\n",
        "  for i,item in enumerate(user_n_items):\n",
        "    ui = np.array(user_embeddings) * np.array(movie_embeddings_dict[item[0]])\n",
        "    H.append(ui)\n",
        "\n",
        "  pairs = list(itertools.combinations(memory[user_num], 2))\n",
        "  for item1,item2 in pairs:\n",
        "    pair1 =  np.array(movie_embeddings_dict[str(int(item1))])\n",
        "    pair2 = np.array(movie_embeddings_dict[str(int(item2))])\n",
        "\n",
        "    product = pair1*pair2\n",
        "    H.append(product)\n",
        "  state = torch.Tensor(H,)\n",
        "  return state #state tensor shape [55,100]\n"
      ],
      "execution_count": 0,
      "outputs": []
    },
    {
      "cell_type": "code",
      "metadata": {
        "id": "xSS7Jg83YWDS",
        "colab_type": "code",
        "colab": {}
      },
      "source": [
        "def drrp_state_rep(items,memory,idx):\n",
        "  user_num = idx\n",
        "  H = []\n",
        "  user_n_items = items\n",
        "  for i,item in enumerate(user_n_items):\n",
        "    H.append(np.array(movie_embeddings_dict[item[0]]))\n",
        "  \n",
        "  pairs = list(itertools.combinations(memory[user_num], 2))\n",
        "  for item1,item2 in pairs:\n",
        "    pair1 =  np.array(movie_embeddings_dict[str(int(item1))])\n",
        "    pair2 = np.array(movie_embeddings_dict[str(int(item2))])\n",
        "    product = pair1*pair2\n",
        "    H.append(product)\n",
        "  state = torch.Tensor(H,)\n",
        "  return state"
      ],
      "execution_count": 0,
      "outputs": []
    },
    {
      "cell_type": "code",
      "metadata": {
        "id": "bKvM1H0FO1zg",
        "colab_type": "code",
        "colab": {}
      },
      "source": [
        "# just n items and their embeddings used to represent state\n",
        "def state_rep(item_b):\n",
        "  state = []\n",
        "  user_embeddings = np.zeros((len(columns),100))\n",
        "  movie_ids = list(item[0] for item in item_b)\n",
        "  for i,subitem in enumerate(user_embeddings):\n",
        "    if idx_to_id[i] in movie_ids:\n",
        "      user_embeddings[i] = np.array(movie_embeddings_dict[idx_to_id[i]])\n",
        "    else:\n",
        "      user_embeddings[i] = np.zeros((100,))\n",
        "  state = torch.Tensor(user_embeddings,)\n",
        "  return torch.reshape(state,[-1]) "
      ],
      "execution_count": 0,
      "outputs": []
    },
    {
      "cell_type": "markdown",
      "metadata": {
        "id": "BnGewmmshbCu",
        "colab_type": "text"
      },
      "source": [
        "#Actor, Critic Module"
      ]
    },
    {
      "cell_type": "code",
      "metadata": {
        "id": "k4kiw_L7sypy",
        "colab_type": "code",
        "outputId": "4753b580-14d9-45e5-e931-cdbf4392618e",
        "colab": {
          "base_uri": "https://localhost:8080/",
          "height": 331
        }
      },
      "source": [
        "!pip install git+https://github.com/pabloppp/pytorch-tools@0.2.4 -U"
      ],
      "execution_count": 0,
      "outputs": [
        {
          "output_type": "stream",
          "text": [
            "Collecting git+https://github.com/pabloppp/pytorch-tools@0.2.4\n",
            "  Cloning https://github.com/pabloppp/pytorch-tools (to revision 0.2.4) to /tmp/pip-req-build-ryzkfew0\n",
            "  Running command git clone -q https://github.com/pabloppp/pytorch-tools /tmp/pip-req-build-ryzkfew0\n",
            "  Running command git checkout -q 86c73996537002ab29e7e40f925cb90756f58156\n",
            "Requirement already satisfied, skipping upgrade: torch==1.* in /usr/local/lib/python3.6/dist-packages (from torchtools==0.2.4) (1.4.0)\n",
            "Requirement already satisfied, skipping upgrade: torchvision in /usr/local/lib/python3.6/dist-packages (from torchtools==0.2.4) (0.5.0)\n",
            "Requirement already satisfied, skipping upgrade: numpy==1.* in /usr/local/lib/python3.6/dist-packages (from torchtools==0.2.4) (1.18.3)\n",
            "Requirement already satisfied, skipping upgrade: six in /usr/local/lib/python3.6/dist-packages (from torchvision->torchtools==0.2.4) (1.12.0)\n",
            "Requirement already satisfied, skipping upgrade: pillow>=4.1.1 in /usr/local/lib/python3.6/dist-packages (from torchvision->torchtools==0.2.4) (7.0.0)\n",
            "Building wheels for collected packages: torchtools\n",
            "  Building wheel for torchtools (setup.py) ... \u001b[?25l\u001b[?25hdone\n",
            "  Created wheel for torchtools: filename=torchtools-0.2.4-cp36-none-any.whl size=19201 sha256=b01aa5dbbdc0fd333823de535e912a8abdc3f2d9f313c49f2960f9d2b140abb9\n",
            "  Stored in directory: /tmp/pip-ephem-wheel-cache-tsyf4x7c/wheels/98/e6/12/fbea7d7f60c85f3eeca5f5253cf77eab1a4fd352ea495ff3b9\n",
            "Successfully built torchtools\n",
            "Installing collected packages: torchtools\n",
            "Successfully installed torchtools-0.2.4\n"
          ],
          "name": "stdout"
        }
      ]
    },
    {
      "cell_type": "code",
      "metadata": {
        "id": "1nZWN38whlMJ",
        "colab_type": "code",
        "outputId": "bd1030aa-178d-4054-c20a-03362df6efc4",
        "colab": {
          "base_uri": "https://localhost:8080/",
          "height": 35
        }
      },
      "source": [
        "#Dependencies\n",
        "\n",
        "import torch\n",
        "import torch.nn as nn\n",
        "import torch.nn.functional as F\n",
        "from torchtools.optim import Ranger\n",
        "import tqdm\n",
        "import random\n",
        "import matplotlib.pyplot as plt\n"
      ],
      "execution_count": 0,
      "outputs": [
        {
          "output_type": "stream",
          "text": [
            "To use this log_lamb_rs, please run 'pip install tensorboardx'. Also you must have Tensorboard running to see results\n"
          ],
          "name": "stdout"
        }
      ]
    },
    {
      "cell_type": "code",
      "metadata": {
        "id": "r3YYQPNuheGY",
        "colab_type": "code",
        "colab": {}
      },
      "source": [
        "#Actor Model:\n",
        "#Generating an action a based on state s\n",
        "\n",
        "class Actor(torch.nn.Module):\n",
        "  def __init__(self, input_dim, output_dim,hidden_dim):\n",
        "    super(Actor, self).__init__()\n",
        "\n",
        "    self.drop_layer = nn.Dropout(p=0.5)        \n",
        "    self.linear1 = nn.Linear(input_dim, hidden_dim)\n",
        "    self.linear2 = nn.Linear(hidden_dim, hidden_dim)\n",
        "    self.linear3 = nn.Linear(hidden_dim, output_dim)\n",
        "  \n",
        "\n",
        "  def forward(self, state):\n",
        "    # state = self.state_rep(state)\n",
        "    x = F.relu(self.linear1(state))\n",
        "    # print(x.shape)\n",
        "    x = self.drop_layer(x)\n",
        "    x = F.relu(self.linear2(x))\n",
        "    # print(x.shape)\n",
        "    x = self.drop_layer(x)\n",
        "    # x = torch.tanh(self.linear3(x)) # in case embeds are -1 1 normalized\n",
        "    x = self.linear3(x) # in case embeds are standard scaled / wiped using PCA whitening\n",
        "    # return state, x\n",
        "    return x\n",
        "      \n",
        "\n",
        "\n"
      ],
      "execution_count": 0,
      "outputs": []
    },
    {
      "cell_type": "code",
      "metadata": {
        "id": "_6Ss5R4XoKii",
        "colab_type": "code",
        "colab": {}
      },
      "source": [
        "class Critic(nn.Module):\n",
        "  def __init__(self,input_dim,output_dim,hidden_dim):\n",
        "\n",
        "    super(Critic, self).__init__()\n",
        "        \n",
        "    self.drop_layer = nn.Dropout(p=0.5)\n",
        "    \n",
        "    self.linear1 = nn.Linear(input_dim + output_dim, hidden_dim)\n",
        "    self.linear2 = nn.Linear(hidden_dim, hidden_dim)\n",
        "    self.linear3 = nn.Linear(hidden_dim, 1)\n",
        "\n",
        "  def forward(self,state,action):    \n",
        "    x = torch.cat([state, action], 1)\n",
        "    # print(x.shape)\n",
        "    x = F.relu(self.linear1(x))\n",
        "    x = self.drop_layer(x)\n",
        "    x = F.relu(self.linear2(x))\n",
        "    x = self.drop_layer(x)\n",
        "    x = self.linear3(x)\n",
        "    return x\n",
        "\n"
      ],
      "execution_count": 0,
      "outputs": []
    },
    {
      "cell_type": "code",
      "metadata": {
        "id": "nE3PBjinMmKZ",
        "colab_type": "code",
        "colab": {}
      },
      "source": [
        "class ReplayBuffer:\n",
        "    def __init__(self, capacity):\n",
        "        self.capacity = capacity\n",
        "        self.buffer = []\n",
        "        self.position = 0\n",
        "    \n",
        "    def push(self, state, action, reward, next_state):\n",
        "        if len(self.buffer) < self.capacity:\n",
        "            self.buffer.append(None)\n",
        "        self.buffer[self.position] = (state, action, reward, next_state)\n",
        "        self.position = (self.position + 1) % self.capacity\n",
        "    \n",
        "    def sample(self, batch_size):\n",
        "        batch = random.sample(self.buffer, batch_size)\n",
        "        # print(batch)\n",
        "        state, action, reward, next_state = map(np.stack,zip(*batch))\n",
        "        return state, action, reward, next_state\n",
        "    \n",
        "    def __len__(self):\n",
        "        return len(self.buffer)"
      ],
      "execution_count": 0,
      "outputs": []
    },
    {
      "cell_type": "code",
      "metadata": {
        "id": "hWWYGkm2JMhB",
        "colab_type": "code",
        "colab": {}
      },
      "source": [
        "device = 'cpu'\n",
        "# cuda = torch.device('cuda')"
      ],
      "execution_count": 0,
      "outputs": []
    },
    {
      "cell_type": "code",
      "metadata": {
        "id": "ft471pD0KoKT",
        "colab_type": "code",
        "colab": {}
      },
      "source": [
        "#used for plotting purposes\n",
        "p_loss = []\n",
        "v_loss = []"
      ],
      "execution_count": 0,
      "outputs": []
    },
    {
      "cell_type": "code",
      "metadata": {
        "id": "zMNI4edhzv_6",
        "colab_type": "code",
        "colab": {}
      },
      "source": [
        "def ddpg_update(batch_size=1, \n",
        "                gamma = 0.6,\n",
        "                min_value=-np.inf,\n",
        "                max_value=np.inf,\n",
        "                soft_tau=1e-2):\n",
        "    \n",
        "    state, action, reward, next_state = replay_buffer.sample(batch_size)\n",
        "    state      = torch.FloatTensor(state).to(device)\n",
        "\n",
        "    next_state = torch.FloatTensor(next_state).to(device)\n",
        "\n",
        "    action     = torch.FloatTensor(action).to(device)\n",
        "    reward     = torch.FloatTensor(reward).to(device)\n",
        "    # print(state.shape)\n",
        "    # print(policy_net(state).shape)\n",
        "    policy_loss = value_net(state, policy_net(state))\n",
        "    policy_loss = -policy_loss.mean()\n",
        "    p_loss.append(policy_loss)\n",
        "    next_action    = target_policy_net(next_state)\n",
        "    target_value   = target_value_net(next_state, next_action.detach())\n",
        "    expected_value = reward + gamma * target_value\n",
        "    expected_value = torch.clamp(expected_value, min_value, max_value)\n",
        "\n",
        "    value = value_net(state, action)\n",
        "    # print(\"1\")\n",
        "    value_loss = value_criterion(value, expected_value.detach())\n",
        "    # print(\"2\")\n",
        "    v_loss.append(value_loss)\n",
        "    policy_optimizer.zero_grad()\n",
        "    # print(\"3\")\n",
        "    policy_loss.backward()\n",
        "    policy_optimizer.step()\n",
        "\n",
        "    value_optimizer.zero_grad()\n",
        "    value_loss.backward()\n",
        "    value_optimizer.step()\n",
        "\n",
        "    for target_param, param in zip(target_value_net.parameters(), value_net.parameters()):\n",
        "                target_param.data.copy_(\n",
        "                    target_param.data * (1.0 - soft_tau) + param.data * soft_tau\n",
        "                )\n",
        "\n",
        "    for target_param, param in zip(target_policy_net.parameters(), policy_net.parameters()):\n",
        "            target_param.data.copy_(\n",
        "                target_param.data * (1.0 - soft_tau) + param.data * soft_tau\n",
        "            )"
      ],
      "execution_count": 0,
      "outputs": []
    },
    {
      "cell_type": "code",
      "metadata": {
        "id": "RNlkmYxAotps",
        "colab_type": "code",
        "colab": {}
      },
      "source": [
        "#initializing actor and critic networks for drru and drrp state representation\n",
        "\n",
        "value_net = Critic(5500,100,256)\n",
        "policy_net = Actor(5500,100,256)\n",
        "\n",
        "target_value_net = Critic(5500,100,256)\n",
        "target_policy_net = Actor(5500,100,256)\n",
        "\n",
        "\n",
        "target_policy_net.eval()\n",
        "target_value_net.eval()\n",
        "\n",
        "for target_param, param in zip(target_value_net.parameters(), value_net.parameters()):\n",
        "  target_param.data.copy_(param.data)\n",
        "\n",
        "for target_param, param in zip(target_policy_net.parameters(), policy_net.parameters()):\n",
        "  target_param.data.copy_(param.data)\n",
        "\n",
        "value_criterion = nn.MSELoss()\n",
        "value_optimizer      = Ranger(value_net.parameters(),  lr=1e-4)\n",
        "policy_optimizer     = Ranger(policy_net.parameters(), lr=1e-4)"
      ],
      "execution_count": 0,
      "outputs": []
    },
    {
      "cell_type": "code",
      "metadata": {
        "id": "HjhPAD9r75Q0",
        "colab_type": "code",
        "colab": {}
      },
      "source": [
        "#initializing for drrave state representation\n",
        "\n",
        "value_net = Critic(2100,100,256)\n",
        "policy_net = Actor(2100,100,256)\n",
        "\n",
        "target_value_net = Critic(2100,100,256)\n",
        "target_policy_net = Actor(2100,100,256)\n",
        "\n",
        "\n",
        "target_policy_net.eval()\n",
        "target_value_net.eval()\n",
        "\n",
        "for target_param, param in zip(target_value_net.parameters(), value_net.parameters()):\n",
        "  target_param.data.copy_(param.data)\n",
        "\n",
        "for target_param, param in zip(target_policy_net.parameters(), policy_net.parameters()):\n",
        "  target_param.data.copy_(param.data)\n",
        "\n",
        "value_criterion = nn.MSELoss()\n",
        "value_optimizer      = Ranger(value_net.parameters(),  lr=1e-4)\n",
        "policy_optimizer     = Ranger(policy_net.parameters(), lr=1e-4)"
      ],
      "execution_count": 0,
      "outputs": []
    },
    {
      "cell_type": "code",
      "metadata": {
        "id": "oq0XEAKo-Yhi",
        "colab_type": "code",
        "outputId": "623ca5dc-48f3-42ac-87c5-238093d93161",
        "colab": {
          "base_uri": "https://localhost:8080/",
          "height": 127
        }
      },
      "source": [
        "print(policy_net)"
      ],
      "execution_count": 0,
      "outputs": [
        {
          "output_type": "stream",
          "text": [
            "Actor(\n",
            "  (drop_layer): Dropout(p=0.5, inplace=False)\n",
            "  (linear1): Linear(in_features=5500, out_features=256, bias=True)\n",
            "  (linear2): Linear(in_features=256, out_features=256, bias=True)\n",
            "  (linear3): Linear(in_features=256, out_features=100, bias=True)\n",
            ")\n"
          ],
          "name": "stdout"
        }
      ]
    },
    {
      "cell_type": "code",
      "metadata": {
        "id": "WZmfxcz9Mmmy",
        "colab_type": "code",
        "colab": {}
      },
      "source": [
        "replay_buffer_size = 10000\n",
        "replay_buffer = ReplayBuffer(replay_buffer_size)\n",
        "\n",
        "memory = np.ones((train_num,10))*-1"
      ],
      "execution_count": 0,
      "outputs": []
    },
    {
      "cell_type": "code",
      "metadata": {
        "id": "Y2IHzJraDgHn",
        "colab_type": "code",
        "colab": {}
      },
      "source": [
        "def get_action(state,action_emb,userid_b,item_b,preds):\n",
        "  action_emb = torch.reshape(action_emb,[1,100]).unsqueeze(0)\n",
        "  item_embedding = []\n",
        "  for movie in users_dict[userid_b[0]][\"item\"]:  \n",
        "    item_embedding.append(np.array(movie_embeddings_dict[movie]))\n",
        "  item_embedding = torch.Tensor(item_embedding,)\n",
        "  items = item_embedding.T.unsqueeze(0)\n",
        "  m = torch.bmm(action_emb,items).squeeze(0)\n",
        "  sorted_m,indices = torch.sort(m,descending=True)\n",
        "  index_list = list(indices[0])\n",
        "  for i in index_list:\n",
        "    if users_dict[userid_b[0]][\"item\"][i] not in preds:    \n",
        "      preds.add(users_dict[userid_b[0]][\"item\"][i])\n",
        "      return int(i)\n",
        " "
      ],
      "execution_count": 0,
      "outputs": []
    },
    {
      "cell_type": "code",
      "metadata": {
        "id": "aMOxsJ4Yiyj3",
        "colab_type": "code",
        "colab": {}
      },
      "source": [
        "def update_memory(memory,action,idx):\n",
        "  memory[idx] = list(memory[idx,1:])+[action]"
      ],
      "execution_count": 0,
      "outputs": []
    },
    {
      "cell_type": "code",
      "metadata": {
        "id": "VkpK8GRf70ui",
        "colab_type": "code",
        "colab": {}
      },
      "source": [
        "rate = 0"
      ],
      "execution_count": 0,
      "outputs": []
    },
    {
      "cell_type": "markdown",
      "metadata": {
        "id": "kztx5pqv7r-p",
        "colab_type": "text"
      },
      "source": [
        "#Training"
      ]
    },
    {
      "cell_type": "code",
      "metadata": {
        "id": "ptAHnMaMz5fR",
        "colab_type": "code",
        "outputId": "b2509e9e-8dba-4b7a-fbf9-10dce9e2ee9b",
        "colab": {
          "base_uri": "https://localhost:8080/",
          "height": 35
        }
      },
      "source": [
        "preddict = dict()\n",
        "it = iter(train_dataloader)\n",
        "for episode in tqdm.tqdm(range(train_num-1)):    \n",
        "  batch_size= 1\n",
        "  preds = set()\n",
        "  first = next(it)\n",
        "  item_b,rating_b,size_b,userid_b,idx_b = first['item'],first['rating'],first['size'],first['userid'],first['idx']\n",
        "  memory[idx_b] = [item[0] for item in item_b]\n",
        "  state = drrave_state_rep(userid_b,item_b,memory,idx_b)\n",
        "  for j in range(5):    \n",
        "    state_rep =  torch.reshape(state,[-1])\n",
        "    action_emb = policy_net(state_rep)\n",
        "    action = get_action(state,action_emb,userid_b,item_b,preds)\n",
        "    rate = int(users_dict[userid_b[0]][\"rating\"][action])\n",
        "    try:\n",
        "      ratings = (int(rate)-3)/2\n",
        "    except:\n",
        "      ratings = 0\n",
        "    reward = torch.Tensor((ratings,))\n",
        "\n",
        "    if reward > 0:\n",
        "      update_memory(memory,int(users_dict[userid_b[0]][\"item\"][action]),idx_b)\n",
        "\n",
        "    next_state = drrave_state_rep(userid_b,item_b,memory,idx_b)\n",
        "    next_state_rep = torch.reshape(next_state,[-1])\n",
        "    replay_buffer.push(state_rep.detach().cpu().numpy(), action_emb.detach().cpu().numpy(), reward, next_state_rep.detach().cpu().numpy())\n",
        "    if len(replay_buffer) > batch_size:\n",
        "        ddpg_update()\n",
        "\n",
        "    state = next_state\n",
        "  preddict[userid_b[0]] = preds\n"
      ],
      "execution_count": 0,
      "outputs": [
        {
          "output_type": "stream",
          "text": [
            "100%|██████████| 4461/4461 [07:43<00:00,  9.63it/s]\n"
          ],
          "name": "stderr"
        }
      ]
    },
    {
      "cell_type": "code",
      "metadata": {
        "id": "-KxvxcIJOTAM",
        "colab_type": "code",
        "outputId": "3a8386cb-8954-4f13-b7e8-59c53c7ab239",
        "colab": {
          "base_uri": "https://localhost:8080/",
          "height": 285
        }
      },
      "source": [
        "plt.plot(v_loss)"
      ],
      "execution_count": 0,
      "outputs": [
        {
          "output_type": "execute_result",
          "data": {
            "text/plain": [
              "[<matplotlib.lines.Line2D at 0x7f0bcb633c18>]"
            ]
          },
          "metadata": {
            "tags": []
          },
          "execution_count": 123
        },
        {
          "output_type": "display_data",
          "data": {
            "image/png": "[encoded data removed]",
            "text/plain": [
              "<Figure size 432x288 with 1 Axes>"
            ]
          },
          "metadata": {
            "tags": [],
            "needs_background": "light"
          }
        }
      ]
    },
    {
      "cell_type": "code",
      "metadata": {
        "id": "7Hpx1nVWO1HA",
        "colab_type": "code",
        "outputId": "d7eaf6f2-f8c0-4c97-c828-ed60c0afd76e",
        "colab": {
          "base_uri": "https://localhost:8080/",
          "height": 283
        }
      },
      "source": [
        "plt.plot(p_loss)"
      ],
      "execution_count": 0,
      "outputs": [
        {
          "output_type": "execute_result",
          "data": {
            "text/plain": [
              "[<matplotlib.lines.Line2D at 0x7f0bcb614ba8>]"
            ]
          },
          "metadata": {
            "tags": []
          },
          "execution_count": 124
        },
        {
          "output_type": "display_data",
          "data": {
            "image/png": "[encoded data removed]",
            "text/plain": [
              "<Figure size 432x288 with 1 Axes>"
            ]
          },
          "metadata": {
            "tags": [],
            "needs_background": "light"
          }
        }
      ]
    },
    {
      "cell_type": "markdown",
      "metadata": {
        "id": "ho1VsZVS7u7d",
        "colab_type": "text"
      },
      "source": [
        "#Testing"
      ]
    },
    {
      "cell_type": "code",
      "metadata": {
        "id": "-HIsYUA6_dUN",
        "colab_type": "code",
        "outputId": "c265c581-2fc6-4057-828f-596844a26d69",
        "colab": {
          "base_uri": "https://localhost:8080/",
          "height": 35
        }
      },
      "source": [
        "#prediction algorithm\n",
        "it2 = iter(test_dataloader)\n",
        "precision = 0\n",
        "test_pred_dict = dict()\n",
        "for j in range(len(test_dataloader)-1):\n",
        "  first = next(it2)\n",
        "  item_b,rating_b,size_b,userid_b,idx_b = first['item'],first['rating'],first['size'],first['userid'],first['idx']\n",
        "  memory[idx_b] = [item[0] for item in item_b]\n",
        "  state = drrave_state_rep(userid_b,item_b,memory,idx_b)\n",
        "  count = 0\n",
        "  test_pred = set()\n",
        "  for j in range(5):\n",
        "    state_rep =  torch.reshape(state,[-1])\n",
        "    action_emb = policy_net(state_rep)\n",
        "    action = get_action(state,action_emb,userid_b,item_b,test_pred)\n",
        "    rate = int(users_dict[userid_b[0]][\"rating\"][action])\n",
        "    try:\n",
        "      rating = (int(rate)-3)/2\n",
        "    except:\n",
        "      rating = 0\n",
        "    reward = torch.Tensor((rating,))\n",
        "\n",
        "    if reward > 0:\n",
        "      count += 1\n",
        "      update_memory(memory,int(users_dict[userid_b[0]][\"item\"][action]),idx_b)\n",
        "    next_state = drrave_state_rep(userid_b,item_b,memory,idx_b)\n",
        "    state = next_state\n",
        "  precision += count/5\n",
        "  test_pred_dict[userid_b[0]] = test_pred\n",
        "print(\"p\",precision/(len(test_dataloader)-1))"
      ],
      "execution_count": 0,
      "outputs": [
        {
          "output_type": "stream",
          "text": [
            "p 0.752925353059846\n"
          ],
          "name": "stdout"
        }
      ]
    },
    {
      "cell_type": "markdown",
      "metadata": {
        "id": "2MHnXsrP79pN",
        "colab_type": "text"
      },
      "source": [
        "#Saving and Loading Models"
      ]
    },
    {
      "cell_type": "code",
      "metadata": {
        "id": "YPj1Ejb7A2cn",
        "colab_type": "code",
        "colab": {}
      },
      "source": [
        "PATH = '/content/gdrive/My Drive/RLProject/Models/drravepolicy_net.pth'\n",
        "torch.save(policy_net.state_dict(), PATH)"
      ],
      "execution_count": 0,
      "outputs": []
    },
    {
      "cell_type": "code",
      "metadata": {
        "id": "8HJdozZcBV5a",
        "colab_type": "code",
        "colab": {}
      },
      "source": [
        "value_PATH = '/content/gdrive/My Drive/RLProject/Models/drravevalue_net.pth'\n",
        "torch.save(value_net.state_dict(), value_PATH)\n",
        "\n",
        "tpolicy_PATH = '/content/gdrive/My Drive/RLProject/Models/drravetpolicy_net.pth'\n",
        "torch.save(target_policy_net.state_dict(), tpolicy_PATH)\n",
        "\n",
        "tvalue_PATH = '/content/gdrive/My Drive/RLProject/Models/drravetvalue_net.pth'\n",
        "torch.save(target_value_net.state_dict(), tvalue_PATH)\n"
      ],
      "execution_count": 0,
      "outputs": []
    },
    {
      "cell_type": "code",
      "metadata": {
        "id": "FAPPzXDCCA8e",
        "colab_type": "code",
        "colab": {}
      },
      "source": [
        "np.save('/content/gdrive/My Drive/RLProject/Models/train_dataloader',train_dataloader)\n",
        "np.save('/content/gdrive/My Drive/RLProject/Models/test_dataloader',test_dataloader)"
      ],
      "execution_count": 0,
      "outputs": []
    },
    {
      "cell_type": "code",
      "metadata": {
        "id": "WU5Ac2dGCTIj",
        "colab_type": "code",
        "outputId": "fb32e68e-d56b-486f-a0fc-86ed072e8230",
        "colab": {
          "base_uri": "https://localhost:8080/",
          "height": 129
        }
      },
      "source": [
        "policy_net = Actor(5500,100,256)\n",
        "policy_net.load_state_dict(torch.load(PATH))\n",
        "policy_net.eval()\n",
        "\n",
        "value_net = Critic(5500,100,256)\n",
        "value_net.load_state_dict(torch.load(value_PATH))\n",
        "value_net.eval()\n",
        "\n",
        "target_policy_net = Actor(5500,100,256)\n",
        "target_policy_net.load_state_dict(torch.load(tpolicy_PATH))\n",
        "target_policy_net.eval()\n",
        "\n",
        "target_value_net = Critic(5500,100,256)\n",
        "target_value_net.load_state_dict(torch.load(tvalue_PATH))\n",
        "target_value_net.eval()\n"
      ],
      "execution_count": 0,
      "outputs": [
        {
          "output_type": "execute_result",
          "data": {
            "text/plain": [
              "Critic(\n",
              "  (drop_layer): Dropout(p=0.5, inplace=False)\n",
              "  (linear1): Linear(in_features=370728, out_features=256, bias=True)\n",
              "  (linear2): Linear(in_features=256, out_features=256, bias=True)\n",
              "  (linear3): Linear(in_features=256, out_features=1, bias=True)\n",
              ")"
            ]
          },
          "metadata": {
            "tags": []
          },
          "execution_count": 20
        }
      ]
    },
    {
      "cell_type": "code",
      "metadata": {
        "id": "1LyKW_ns7hv5",
        "colab_type": "code",
        "colab": {}
      },
      "source": [
        "np_load_old = np.load\n",
        "\n",
        "# modify the default parameters of np.load\n",
        "np.load = lambda *a,**k: np_load_old(*a, allow_pickle=True, **k)\n",
        "\n",
        "train_data = np.load('/content/gdrive/My Drive/RLProject/Models/train_users.npy')"
      ],
      "execution_count": 0,
      "outputs": []
    },
    {
      "cell_type": "code",
      "metadata": {
        "id": "bNsZXyGHAid7",
        "colab_type": "code",
        "colab": {}
      },
      "source": [
        "np.load = np_load_old"
      ],
      "execution_count": 0,
      "outputs": []
    }
  ]
}